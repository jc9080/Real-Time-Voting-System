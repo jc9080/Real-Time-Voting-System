{
 "cells": [
  {
   "cell_type": "code",
   "execution_count": 12,
   "metadata": {},
   "outputs": [],
   "source": [
    "from kafka import KafkaProducer\n",
    "from kafka.errors import KafkaError\n",
    "import json"
   ]
  },
  {
   "cell_type": "code",
   "execution_count": 13,
   "metadata": {},
   "outputs": [],
   "source": [
    "producer = KafkaProducer(bootstrap_servers=['localhost:9092'])\n",
    "\n",
    "# # Asynchronous by default\n",
    "# future = producer.send('my-topic', b'raw_bytes')\n",
    "\n",
    "# # Block for 'synchronous' sends\n",
    "# try:\n",
    "#     record_metadata = future.get(timeout=10)\n",
    "# except KafkaError:\n",
    "#     # Decide what to do if produce request failed...\n",
    "#     log.exception()\n",
    "#     pass\n",
    "\n",
    "# Successful result returns assigned partition and offset\n",
    "# print (record_metadata.topic)\n",
    "# print (record_metadata.partition)\n",
    "# print (record_metadata.offset)"
   ]
  },
  {
   "cell_type": "code",
   "execution_count": 17,
   "metadata": {},
   "outputs": [
    {
     "name": "stdout",
     "output_type": "stream",
     "text": [
      "incoming_ballots\n",
      "0\n",
      "38\n"
     ]
    }
   ],
   "source": [
    "sample_ballot_1 = {\n",
    "    'test_field':'successful',\n",
    "    'voterID':{\n",
    "                'lastName': '12345TEST',\n",
    "                'firstName': '12345TEST',\n",
    "                'SSN': 123456789,\n",
    "                'state': 'NY',\n",
    "                'county': 'Kings'\n",
    "                },\n",
    "    'contact':{\n",
    "                'email': 'me@email.com',\n",
    "                'phone': 1234567890\n",
    "        },\n",
    "\n",
    "    'ballot': {\n",
    "                'president': 'Bernie Sanders',\n",
    "                'vicePresident': 'Michael Jordan'\n",
    "        }\n",
    "    }\n",
    "\n",
    "\n",
    "def on_send_success(record_metadata):\n",
    "    print(record_metadata.topic)\n",
    "    print(record_metadata.partition)\n",
    "    print(record_metadata.offset)\n",
    "\n",
    "def on_send_error(excp):\n",
    "    log.error('I am an errback', exc_info=excp)\n",
    "    # handle exception\n",
    "    \n",
    "    \n",
    "# produce json messages\n",
    "producer = KafkaProducer(value_serializer=lambda m: json.dumps(m).encode('ascii'))\n",
    "producer.send('incoming_ballots', sample_ballot_1).add_callback(on_send_success).add_errback(on_send_error)\n",
    "\n",
    "# block until all async messages are sent\n",
    "producer.flush()\n",
    "\n",
    "# configure multiple retries\n",
    "producer = KafkaProducer(retries=5)"
   ]
  },
  {
   "cell_type": "code",
   "execution_count": null,
   "metadata": {},
   "outputs": [],
   "source": []
  },
  {
   "cell_type": "code",
   "execution_count": null,
   "metadata": {},
   "outputs": [],
   "source": []
  }
 ],
 "metadata": {
  "kernelspec": {
   "display_name": "Python 3",
   "language": "python",
   "name": "python3"
  },
  "language_info": {
   "codemirror_mode": {
    "name": "ipython",
    "version": 3
   },
   "file_extension": ".py",
   "mimetype": "text/x-python",
   "name": "python",
   "nbconvert_exporter": "python",
   "pygments_lexer": "ipython3",
   "version": "3.7.0"
  }
 },
 "nbformat": 4,
 "nbformat_minor": 2
}
