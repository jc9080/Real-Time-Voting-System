{
 "cells": [
  {
   "cell_type": "code",
   "execution_count": 27,
   "metadata": {},
   "outputs": [],
   "source": [
    "from pymongo import MongoClient"
   ]
  },
  {
   "cell_type": "code",
   "execution_count": 28,
   "metadata": {},
   "outputs": [],
   "source": [
    "# Establish a connection to MongoDB\n",
    "client = MongoClient('mongodb://127.0.0.1:27017/')"
   ]
  },
  {
   "cell_type": "code",
   "execution_count": 29,
   "metadata": {},
   "outputs": [],
   "source": [
    "db = client.BALLOT_DB\n",
    "collection = db.ballots"
   ]
  },
  {
   "cell_type": "code",
   "execution_count": 37,
   "metadata": {},
   "outputs": [
    {
     "name": "stdout",
     "output_type": "stream",
     "text": [
      "<pymongo.cursor.Cursor object at 0x110463940>\n",
      "{'_id': ObjectId('5cd1bd96dac2e0eedad884af'), 'test_field': 'successful', 'voterID': {'lastName': 'ABCD', 'firstName': 'ABCD', 'SSN': 123456789, 'state': 'NY', 'county': 'Kings'}, 'contact': {'email': 'me@email.com', 'phone': 1234567890}, 'ballot': {'president': 'Bernie Sanders', 'vicePresident': 'Michael Jordan'}}\n",
      "{'_id': ObjectId('5cd1bd96dac2e0eedad884b0'), 'test_field': 'successful', 'voterID': {'lastName': 'ABCD', 'firstName': 'ABCD', 'SSN': 123456789, 'state': 'NY', 'county': 'Kings'}, 'contact': {'email': 'me@email.com', 'phone': 1234567890}, 'ballot': {'president': 'Bernie Sanders', 'vicePresident': 'Michael Jordan'}}\n",
      "{'_id': ObjectId('5cd1bd96dac2e0eedad884b1'), 'test_field': 'successful', 'voterID': {'lastName': 'ABCD', 'firstName': 'ABCD', 'SSN': 123456789, 'state': 'NY', 'county': 'Kings'}, 'contact': {'email': 'me@email.com', 'phone': 1234567890}, 'ballot': {'president': 'Bernie Sanders', 'vicePresident': 'Michael Jordan'}}\n",
      "{'_id': ObjectId('5cd1be03dac2e0eedad884b2'), 'test_field': 'successful', 'voterID': {'lastName': '12345TEST', 'firstName': '12345TEST', 'SSN': 123456789, 'state': 'NY', 'county': 'Kings'}, 'contact': {'email': 'me@email.com', 'phone': 1234567890}, 'ballot': {'president': 'Bernie Sanders', 'vicePresident': 'Michael Jordan'}}\n"
     ]
    }
   ],
   "source": [
    "cursor = collection.find({\"test_field\": \"successful\"})\n",
    "\n",
    "print(cursor)\n",
    "\n",
    "for x in cursor:\n",
    "    print(x)"
   ]
  },
  {
   "cell_type": "code",
   "execution_count": null,
   "metadata": {},
   "outputs": [],
   "source": []
  },
  {
   "cell_type": "code",
   "execution_count": null,
   "metadata": {},
   "outputs": [],
   "source": []
  }
 ],
 "metadata": {
  "kernelspec": {
   "display_name": "Python 3",
   "language": "python",
   "name": "python3"
  },
  "language_info": {
   "codemirror_mode": {
    "name": "ipython",
    "version": 3
   },
   "file_extension": ".py",
   "mimetype": "text/x-python",
   "name": "python",
   "nbconvert_exporter": "python",
   "pygments_lexer": "ipython3",
   "version": "3.7.0"
  }
 },
 "nbformat": 4,
 "nbformat_minor": 2
}
